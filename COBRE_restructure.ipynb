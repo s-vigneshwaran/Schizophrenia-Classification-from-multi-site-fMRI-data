{
 "cells": [
  {
   "cell_type": "code",
   "execution_count": 1,
   "metadata": {},
   "outputs": [],
   "source": [
    "import os"
   ]
  },
  {
   "cell_type": "code",
   "execution_count": 2,
   "metadata": {},
   "outputs": [],
   "source": [
    "raw = './data/cobre/'\n",
    "new = './data/cobre_req/'"
   ]
  },
  {
   "cell_type": "code",
   "execution_count": 3,
   "metadata": {},
   "outputs": [],
   "source": [
    "subjects = []\n",
    "\n",
    "for _ in os.listdir(raw):\n",
    "    if _[0:3] == 'sub':\n",
    "        subjects.append(_)"
   ]
  },
  {
   "cell_type": "code",
   "execution_count": 6,
   "metadata": {},
   "outputs": [
    {
     "name": "stdout",
     "output_type": "stream",
     "text": [
      "./data/cobre/sub-A00002405/ses-20110101/func/\n",
      "./data/cobre/sub-A00009946/ses-20110101/func/\n",
      "./data/cobre/sub-A00011107/ses-20120101/anat/\n",
      "./data/cobre/sub-A00021145/ses-20100101/func/\n",
      "./data/cobre/sub-A00023132/ses-20090101/func/\n",
      "./data/cobre/sub-A00023246/ses-20090101/func/\n",
      "./data/cobre/sub-A00023366/ses-20090101/func/\n",
      "./data/cobre/sub-A00027616/ses-20090101/func/\n",
      "./data/cobre/sub-A00028410/ses-20120101/func/\n"
     ]
    }
   ],
   "source": [
    "for subject in subjects:\n",
    "    anat = raw + subject + '/' + os.listdir(raw + subject)[0] + '/anat/'\n",
    "    new_anat = new + subject + '/anat'\n",
    "    command1 = 'mkdir '+ new + subject\n",
    "    os.system(command1)\n",
    "    os.system(command1 + '/anat')\n",
    "    \n",
    "    try:\n",
    "        for _ in os.listdir(anat):\n",
    "            if 'T2w' in _:\n",
    "                txt = _[0:14] + _[27:]\n",
    "                command2 = 'cp ' + anat + _ + ' ' + new_anat + '/' + txt\n",
    "                #print(command2)\n",
    "                os.system(command2)\n",
    "    except:\n",
    "        print(anat)\n",
    "            \n",
    "    func = raw + subject + '/' + os.listdir(raw + subject)[0] + '/func/'\n",
    "    new_func = new + subject + '/func'\n",
    "    command3 = 'mkdir '+ new_func\n",
    "    os.system(command3)\n",
    "    \n",
    "    try:\n",
    "        for _ in os.listdir(func):\n",
    "            if 'rest' in _:\n",
    "                txt = _[0:14] + _[27:]\n",
    "                command4 = 'cp ' + func + _ + ' ' + new_func + '/' + txt\n",
    "                #print(command4)\n",
    "                os.system(command4)\n",
    "    except:\n",
    "        print(func)"
   ]
  },
  {
   "cell_type": "code",
   "execution_count": 7,
   "metadata": {},
   "outputs": [],
   "source": [
    "# sub-A00000909 has two runs so ignoring it\n",
    "\n",
    "# No Functional Images\n",
    "#sub-A00002405\n",
    "#sub-A00009946\n",
    "#sub-A00021145\n",
    "#sub-A00023132\n",
    "#sub-A00023246\n",
    "#sub-A00023366\n",
    "#sub-A00027616\n",
    "#sub-A00028410\n",
    "\n",
    "# No Anatomical Images\n",
    "#sub-A00011107"
   ]
  },
  {
   "cell_type": "code",
   "execution_count": null,
   "metadata": {},
   "outputs": [],
   "source": []
  }
 ],
 "metadata": {
  "kernelspec": {
   "display_name": "Python [conda env:neuro] *",
   "language": "python",
   "name": "conda-env-neuro-py"
  },
  "language_info": {
   "codemirror_mode": {
    "name": "ipython",
    "version": 3
   },
   "file_extension": ".py",
   "mimetype": "text/x-python",
   "name": "python",
   "nbconvert_exporter": "python",
   "pygments_lexer": "ipython3",
   "version": "3.6.10"
  }
 },
 "nbformat": 4,
 "nbformat_minor": 4
}
