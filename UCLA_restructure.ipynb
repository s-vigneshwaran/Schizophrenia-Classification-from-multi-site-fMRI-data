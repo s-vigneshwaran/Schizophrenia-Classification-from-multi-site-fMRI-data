{
 "cells": [
  {
   "cell_type": "code",
   "execution_count": 1,
   "metadata": {},
   "outputs": [],
   "source": [
    "import os"
   ]
  },
  {
   "cell_type": "code",
   "execution_count": 2,
   "metadata": {},
   "outputs": [],
   "source": [
    "raw = './data/ds000030/'\n",
    "new = './data/ucla/'"
   ]
  },
  {
   "cell_type": "code",
   "execution_count": 3,
   "metadata": {},
   "outputs": [],
   "source": [
    "subjects = []\n",
    "\n",
    "for _ in os.listdir(raw):\n",
    "    if _[0:3] == 'sub':\n",
    "        subjects.append(_)"
   ]
  },
  {
   "cell_type": "code",
   "execution_count": 4,
   "metadata": {},
   "outputs": [],
   "source": [
    "for subject in subjects:\n",
    "    anat = raw + subject + '/anat'\n",
    "    new_anat = new + subject + '/anat'\n",
    "    command1 = 'mkdir '+ new + subject\n",
    "    command2 = 'cp -R ' + anat + ' ' + new_anat\n",
    "    os.system(command1)\n",
    "    os.system(command2)\n",
    "    \n",
    "    func = raw + subject + '/func/'\n",
    "    new_func = new + subject + '/func/'\n",
    "    command3 = 'mkdir '+ new + subject + '/func'\n",
    "    os.system(command3)\n",
    "\n",
    "    funcs = []\n",
    "    for _ in os.listdir(func):\n",
    "        if 'rest_bold' in _:\n",
    "            command4 = 'cp ' + func + _ + ' '+ new_func + _\n",
    "            os.system(command4)"
   ]
  },
  {
   "cell_type": "code",
   "execution_count": 5,
   "metadata": {},
   "outputs": [],
   "source": [
    "# Remove Subjects that does not have anatomical image\n",
    "\n",
    "no_anat_subjects = ['sub-10299', 'sub-10428', 'sub-10501', 'sub-10971', 'sub-11121']\n",
    "\n",
    "for _ in no_anat_subjects:\n",
    "    os.system('rm -R ' + new + _)"
   ]
  },
  {
   "cell_type": "code",
   "execution_count": 3,
   "metadata": {},
   "outputs": [],
   "source": [
    "# Remove Subjects that does not have resting state functional image\n",
    "\n",
    "no_func_subjects = ['sub-10193', 'sub-10948', 'sub-11082', ]\n",
    "\n",
    "for _ in no_func_subjects:\n",
    "    os.system('rm -R ' + new + _)"
   ]
  },
  {
   "cell_type": "code",
   "execution_count": 7,
   "metadata": {},
   "outputs": [],
   "source": [
    "subjects = []\n",
    "\n",
    "for _ in os.listdir(new):\n",
    "    if _[0:3] == 'sub':\n",
    "        subjects.append(_)"
   ]
  },
  {
   "cell_type": "code",
   "execution_count": 37,
   "metadata": {},
   "outputs": [],
   "source": [
    "import pandas as pd\n",
    "\n",
    "participants = pd.read_csv(new+'participants.tsv', delimiter='\\t')\n",
    "participants = participants.loc[(participants['diagnosis'] == 'CONTROL') | (participants['diagnosis'] == 'SCHZ' )]\n",
    "participants = participants[['participant_id', 'diagnosis', 'age', 'gender', 'rest', 'T1w', 'ScannerSerialNumber']]\n",
    "participants = participants.loc[participants['participant_id'].isin(subjects)]"
   ]
  },
  {
   "cell_type": "code",
   "execution_count": 38,
   "metadata": {},
   "outputs": [],
   "source": [
    "participants.to_csv(new+'participants.csv')"
   ]
  },
  {
   "cell_type": "code",
   "execution_count": 32,
   "metadata": {},
   "outputs": [],
   "source": []
  }
 ],
 "metadata": {
  "kernelspec": {
   "display_name": "Python [conda env:neuro] *",
   "language": "python",
   "name": "conda-env-neuro-py"
  },
  "language_info": {
   "codemirror_mode": {
    "name": "ipython",
    "version": 3
   },
   "file_extension": ".py",
   "mimetype": "text/x-python",
   "name": "python",
   "nbconvert_exporter": "python",
   "pygments_lexer": "ipython3",
   "version": "3.6.10"
  }
 },
 "nbformat": 4,
 "nbformat_minor": 4
}
