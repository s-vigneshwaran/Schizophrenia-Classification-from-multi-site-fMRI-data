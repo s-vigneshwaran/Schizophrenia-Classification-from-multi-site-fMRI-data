{
 "cells": [
  {
   "cell_type": "code",
   "execution_count": 1,
   "metadata": {},
   "outputs": [],
   "source": [
    "import nilearn\n",
    "import pandas as pd\n",
    "import numpy as np\n",
    "import os"
   ]
  },
  {
   "cell_type": "code",
   "execution_count": 2,
   "metadata": {},
   "outputs": [],
   "source": [
    "subjects = os.listdir('./data/images/Control')\\\n",
    "           + os.listdir('./data/images/Schizoaffective')\\\n",
    "           + os.listdir('./data/images/Schizophrenia')\\\n",
    "           + os.listdir('./data/images/Schizophrenia_Strict')"
   ]
  },
  {
   "cell_type": "code",
   "execution_count": 3,
   "metadata": {},
   "outputs": [],
   "source": [
    "for i in range(len(subjects)):\n",
    "    subjects[i] = subjects[i][4:-30]"
   ]
  },
  {
   "cell_type": "code",
   "execution_count": 4,
   "metadata": {},
   "outputs": [],
   "source": [
    "data = pd.read_csv('./data/participants.csv')"
   ]
  },
  {
   "cell_type": "code",
   "execution_count": 5,
   "metadata": {},
   "outputs": [],
   "source": [
    "%%bash\n",
    "mkdir ./data/mean_images\n",
    "mkdir ./data/max_images\n",
    "mkdir ./data/min_images\n",
    "mkdir ./data/std_images\n",
    "\n",
    "mkdir ./data/mean_images/Control\n",
    "mkdir ./data/mean_images/Schizoaffective\n",
    "mkdir ./data/mean_images/Schizophrenia\n",
    "mkdir ./data/mean_images/Schizophrenia_Strict\n",
    "\n",
    "mkdir ./data/max_images/Control\n",
    "mkdir ./data/max_images/Schizoaffective\n",
    "mkdir ./data/max_images/Schizophrenia\n",
    "mkdir ./data/max_images/Schizophrenia_Strict\n",
    "\n",
    "mkdir ./data/min_images/Control\n",
    "mkdir ./data/min_images/Schizoaffective\n",
    "mkdir ./data/min_images/Schizophrenia\n",
    "mkdir ./data/min_images/Schizophrenia_Strict\n",
    "\n",
    "mkdir ./data/std_images/Control\n",
    "mkdir ./data/std_images/Schizoaffective\n",
    "mkdir ./data/std_images/Schizophrenia\n",
    "mkdir ./data/std_images/Schizophrenia_Strict"
   ]
  },
  {
   "cell_type": "code",
   "execution_count": 6,
   "metadata": {},
   "outputs": [],
   "source": [
    "import nilearn.image as nli\n",
    "from scipy import ndimage\n",
    "\n",
    "def process_file(file):\n",
    "    x = nli.load_img(file).slicer[..., 15:].get_fdata()\n",
    "    mean = x.mean(axis=3)\n",
    "    max_ = x.max(axis=3)\n",
    "    min_ = x.min(axis=3)\n",
    "    std = x.std(axis=3)\n",
    "    \n",
    "    return ndimage.rotate(mean, 90, reshape=False), ndimage.rotate(max_, 90, reshape=False), ndimage.rotate(min_, 90, reshape=False), ndimage.rotate(std, 90, reshape=False), "
   ]
  },
  {
   "cell_type": "code",
   "execution_count": 7,
   "metadata": {},
   "outputs": [
    {
     "name": "stdout",
     "output_type": "stream",
     "text": [
      "CPU times: user 24min 28s, sys: 4min 38s, total: 29min 6s\n",
      "Wall time: 46min 59s\n"
     ]
    }
   ],
   "source": [
    "%%time\n",
    "\n",
    "for index, row in data.iterrows():\n",
    "    type_ = ''\n",
    "    \n",
    "    if row['diagnosis'] == 'Control':\n",
    "        type_ = 'Control'\n",
    "    \n",
    "    elif row['diagnosis'] == 'Schizoaffective':\n",
    "        type_ = 'Schizoaffective'\n",
    "        \n",
    "    elif row['diagnosis'] == 'Schizophrenia':\n",
    "        type_ = 'Schizophrenia'\n",
    "        \n",
    "    elif row['diagnosis'] == 'Schizophrenia_Strict':\n",
    "        type_ = 'Schizophrenia_Strict'\n",
    "        \n",
    "    file = './data/images/'+type_+'/sub-'+row['id']+'_task-rest_bold_MNI_3mm.nii.gz'\n",
    "    mean, max_, min_, std = process_file(file)\n",
    "    np.savez_compressed('./data/mean_images/'+type_+'/sub-'+row['id'], mean)\n",
    "    np.savez_compressed('./data/max_images/'+type_+'/sub-'+row['id'], max_)\n",
    "    np.savez_compressed('./data/min_images/'+type_+'/sub-'+row['id'], min_)\n",
    "    np.savez_compressed('./data/std_images/'+type_+'/sub-'+row['id'], std)"
   ]
  },
  {
   "cell_type": "code",
   "execution_count": null,
   "metadata": {},
   "outputs": [],
   "source": []
  }
 ],
 "metadata": {
  "kernelspec": {
   "display_name": "Python [conda env:neuro] *",
   "language": "python",
   "name": "conda-env-neuro-py"
  },
  "language_info": {
   "codemirror_mode": {
    "name": "ipython",
    "version": 3
   },
   "file_extension": ".py",
   "mimetype": "text/x-python",
   "name": "python",
   "nbconvert_exporter": "python",
   "pygments_lexer": "ipython3",
   "version": "3.6.10"
  }
 },
 "nbformat": 4,
 "nbformat_minor": 4
}
