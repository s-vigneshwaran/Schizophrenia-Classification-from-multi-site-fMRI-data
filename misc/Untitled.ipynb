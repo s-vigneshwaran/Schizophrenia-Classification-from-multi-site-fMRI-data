{
 "cells": [
  {
   "cell_type": "code",
   "execution_count": 1,
   "metadata": {},
   "outputs": [],
   "source": [
    "import pandas as pd\n",
    "import os"
   ]
  },
  {
   "cell_type": "code",
   "execution_count": 2,
   "metadata": {},
   "outputs": [],
   "source": [
    "subjects = os.listdir('./data/images/Control')\\\n",
    "           + os.listdir('./data/images/Schizoaffective')\\\n",
    "           + os.listdir('./data/images/Schizophrenia')\\\n",
    "           + os.listdir('./data/images/Schizophrenia_Strict')"
   ]
  },
  {
   "cell_type": "code",
   "execution_count": 3,
   "metadata": {},
   "outputs": [],
   "source": [
    "for i in range(len(subjects)):\n",
    "    subjects[i] = subjects[i][4:-30]"
   ]
  },
  {
   "cell_type": "code",
   "execution_count": 4,
   "metadata": {},
   "outputs": [
    {
     "data": {
      "text/plain": [
       "['10159',\n",
       " '10171',\n",
       " '10189',\n",
       " '10206',\n",
       " '10217',\n",
       " '10225',\n",
       " '10227',\n",
       " '10228',\n",
       " '10235',\n",
       " '10249',\n",
       " '10269',\n",
       " '10271',\n",
       " '10273',\n",
       " '10274',\n",
       " '10280',\n",
       " '10290',\n",
       " '10292',\n",
       " '10304',\n",
       " '10316',\n",
       " '10321',\n",
       " '10325',\n",
       " '10329',\n",
       " '10339',\n",
       " '10340',\n",
       " '10345',\n",
       " '10347',\n",
       " '10356',\n",
       " '10361',\n",
       " '10365',\n",
       " '10376',\n",
       " '10377',\n",
       " '10388',\n",
       " '10429',\n",
       " '10438',\n",
       " '10440',\n",
       " '10448',\n",
       " '10455',\n",
       " '10460',\n",
       " '10471',\n",
       " '10478',\n",
       " '10487',\n",
       " '10492',\n",
       " '10506',\n",
       " '10517',\n",
       " '10523',\n",
       " '10524',\n",
       " '10525',\n",
       " '10527',\n",
       " '10530',\n",
       " '10557',\n",
       " '10565',\n",
       " '10570',\n",
       " '10575',\n",
       " '10624',\n",
       " '10629',\n",
       " '10631',\n",
       " '10638',\n",
       " '10668',\n",
       " '10672',\n",
       " '10674',\n",
       " '10678',\n",
       " '10680',\n",
       " '10686',\n",
       " '10692',\n",
       " '10696',\n",
       " '10697',\n",
       " '10704',\n",
       " '10707',\n",
       " '10708',\n",
       " '10719',\n",
       " '10724',\n",
       " '10746',\n",
       " '10762',\n",
       " '10779',\n",
       " '10785',\n",
       " '10788',\n",
       " '10844',\n",
       " '10855',\n",
       " '10871',\n",
       " '10877',\n",
       " '10882',\n",
       " '10891',\n",
       " '10893',\n",
       " '10912',\n",
       " '10934',\n",
       " '10940',\n",
       " '10949',\n",
       " '10958',\n",
       " '10963',\n",
       " '10968',\n",
       " '10975',\n",
       " '10977',\n",
       " '10987',\n",
       " '10998',\n",
       " '11019',\n",
       " '11030',\n",
       " '11044',\n",
       " '11050',\n",
       " '11052',\n",
       " '11059',\n",
       " '11061',\n",
       " '11062',\n",
       " '11066',\n",
       " '11067',\n",
       " '11068',\n",
       " '11077',\n",
       " '11088',\n",
       " '11090',\n",
       " '11097',\n",
       " '11098',\n",
       " '11104',\n",
       " '11105',\n",
       " '11106',\n",
       " '11108',\n",
       " '11112',\n",
       " '11122',\n",
       " '11128',\n",
       " '11131',\n",
       " '11142',\n",
       " '11143',\n",
       " '11149',\n",
       " '11156',\n",
       " 'A00000300',\n",
       " 'A00003150',\n",
       " 'A00004087',\n",
       " 'A00007409',\n",
       " 'A00010150',\n",
       " 'A00010684',\n",
       " 'A00011265',\n",
       " 'A00011725',\n",
       " 'A00012995',\n",
       " 'A00013140',\n",
       " 'A00013363',\n",
       " 'A00013816',\n",
       " 'A00014120',\n",
       " 'A00014225',\n",
       " 'A00014522',\n",
       " 'A00014898',\n",
       " 'A00015759',\n",
       " 'A00015826',\n",
       " 'A00017294',\n",
       " 'A00018553',\n",
       " 'A00019888',\n",
       " 'A00020805',\n",
       " 'A00020895',\n",
       " 'A00020968',\n",
       " 'A00020984',\n",
       " 'A00021058',\n",
       " 'A00021072',\n",
       " 'A00021081',\n",
       " 'A00021085',\n",
       " 'A00022400',\n",
       " 'A00022490',\n",
       " 'A00022509',\n",
       " 'A00022592',\n",
       " 'A00022653',\n",
       " 'A00022687',\n",
       " 'A00022727',\n",
       " 'A00022729',\n",
       " 'A00022773',\n",
       " 'A00022810',\n",
       " 'A00022835',\n",
       " 'A00022837',\n",
       " 'A00022915',\n",
       " 'A00023095',\n",
       " 'A00023120',\n",
       " 'A00023131',\n",
       " 'A00023330',\n",
       " 'A00023337',\n",
       " 'A00023730',\n",
       " 'A00023800',\n",
       " 'A00023848',\n",
       " 'A00023866',\n",
       " 'A00024160',\n",
       " 'A00024301',\n",
       " 'A00024372',\n",
       " 'A00024446',\n",
       " 'A00024535',\n",
       " 'A00024546',\n",
       " 'A00024663',\n",
       " 'A00024932',\n",
       " 'A00024955',\n",
       " 'A00025969',\n",
       " 'A00026907',\n",
       " 'A00026945',\n",
       " 'A00027487',\n",
       " 'A00027787',\n",
       " 'A00028052',\n",
       " 'A00028409',\n",
       " 'A00029226',\n",
       " 'A00029452',\n",
       " 'A00031478',\n",
       " 'A00031764',\n",
       " 'A00033214',\n",
       " 'A00035751',\n",
       " 'A00036049',\n",
       " 'A00036555',\n",
       " 'A00036844',\n",
       " 'A00036897',\n",
       " 'A00036916',\n",
       " 'A00037007',\n",
       " 'A00037238',\n",
       " 'A00037318',\n",
       " 'A00037495',\n",
       " 'A00037564',\n",
       " 'A00037665',\n",
       " 'A00014175',\n",
       " 'A00019750',\n",
       " 'A00020416',\n",
       " 'A00027755',\n",
       " 'A00027969',\n",
       " 'A00028189',\n",
       " 'A00028402',\n",
       " 'A00031271',\n",
       " 'A00035836',\n",
       " 'A00035859',\n",
       " 'A00038172',\n",
       " '50004',\n",
       " '50005',\n",
       " '50006',\n",
       " '50007',\n",
       " '50008',\n",
       " '50010',\n",
       " '50013',\n",
       " '50014',\n",
       " '50015',\n",
       " '50016',\n",
       " '50020',\n",
       " '50021',\n",
       " '50022',\n",
       " '50023',\n",
       " '50025',\n",
       " '50027',\n",
       " '50029',\n",
       " '50032',\n",
       " '50033',\n",
       " '50034',\n",
       " '50035',\n",
       " '50036',\n",
       " '50038',\n",
       " '50043',\n",
       " '50047',\n",
       " '50048',\n",
       " '50049',\n",
       " '50050',\n",
       " '50051',\n",
       " '50052',\n",
       " '50053',\n",
       " '50054',\n",
       " '50055',\n",
       " '50056',\n",
       " '50058',\n",
       " '50059',\n",
       " '50060',\n",
       " '50061',\n",
       " '50064',\n",
       " '50066',\n",
       " '50067',\n",
       " '50069',\n",
       " '50073',\n",
       " '50075',\n",
       " '50076',\n",
       " '50077',\n",
       " '50080',\n",
       " '50081',\n",
       " '50083',\n",
       " '50085',\n",
       " 'A00000368',\n",
       " 'A00000456',\n",
       " 'A00000541',\n",
       " 'A00000838',\n",
       " 'A00000909',\n",
       " 'A00001181',\n",
       " 'A00001243',\n",
       " 'A00001251',\n",
       " 'A00001452',\n",
       " 'A00002480',\n",
       " 'A00004507',\n",
       " 'A00006754',\n",
       " 'A00009280',\n",
       " 'A00014590',\n",
       " 'A00014607',\n",
       " 'A00014636',\n",
       " 'A00014719',\n",
       " 'A00014804',\n",
       " 'A00014830',\n",
       " 'A00015201',\n",
       " 'A00015518',\n",
       " 'A00015648',\n",
       " 'A00016197',\n",
       " 'A00016720',\n",
       " 'A00016723',\n",
       " 'A00017147',\n",
       " 'A00018129',\n",
       " 'A00018317',\n",
       " 'A00018403',\n",
       " 'A00018979',\n",
       " 'A00019293',\n",
       " 'A00019349',\n",
       " 'A00020414',\n",
       " 'A00020602',\n",
       " 'A00020787',\n",
       " 'A00021591',\n",
       " 'A00021598',\n",
       " 'A00022500',\n",
       " 'A00023158',\n",
       " 'A00023243',\n",
       " 'A00023246',\n",
       " 'A00023590',\n",
       " 'A00023750',\n",
       " 'A00024198',\n",
       " 'A00024228',\n",
       " 'A00024568',\n",
       " 'A00024684',\n",
       " 'A00024953',\n",
       " 'A00024959',\n",
       " 'A00027391',\n",
       " 'A00027410',\n",
       " 'A00027537',\n",
       " 'A00028303',\n",
       " 'A00028404',\n",
       " 'A00028405',\n",
       " 'A00028408',\n",
       " 'A00028805',\n",
       " 'A00028806',\n",
       " 'A00029486',\n",
       " 'A00031597',\n",
       " 'A00035003',\n",
       " 'A00035485',\n",
       " 'A00037034',\n",
       " 'A00037224',\n",
       " 'A00037619',\n",
       " 'A00037649',\n",
       " 'A00037854',\n",
       " 'A00038441',\n",
       " 'A00038624']"
      ]
     },
     "execution_count": 4,
     "metadata": {},
     "output_type": "execute_result"
    }
   ],
   "source": [
    "subjects"
   ]
  },
  {
   "cell_type": "code",
   "execution_count": 5,
   "metadata": {},
   "outputs": [],
   "source": [
    "ucla = pd.read_csv('./data/ucla.tsv', delimiter='\\t')\n",
    "cobre = pd.read_csv('./data/cobre.tsv', delimiter='\\t')\n",
    "ucla['study'] = 'ucla'\n",
    "cobre['study'] = 'cobre'"
   ]
  },
  {
   "cell_type": "code",
   "execution_count": 6,
   "metadata": {},
   "outputs": [],
   "source": [
    "ucla.rename(columns={'participant_id' : 'id'},\n",
    "            inplace = True)\n",
    "\n",
    "ucla['id'] = ucla['id'].apply(lambda x: x[4:])"
   ]
  },
  {
   "cell_type": "code",
   "execution_count": 7,
   "metadata": {},
   "outputs": [],
   "source": [
    "cobre.rename(columns={'participant_id' : 'id',\n",
    "                     'sex' : 'gender',\n",
    "                     'dx' : 'diagnosis'},\n",
    "            inplace = True)"
   ]
  },
  {
   "cell_type": "code",
   "execution_count": 8,
   "metadata": {},
   "outputs": [],
   "source": [
    "participants = pd.DataFrame(columns=['id', 'age', 'gender', 'diagnosis', 'study'])"
   ]
  },
  {
   "cell_type": "code",
   "execution_count": 9,
   "metadata": {},
   "outputs": [],
   "source": [
    "ucla = ucla[['id', 'age', 'gender', 'diagnosis', 'study']]\n",
    "cobre = cobre[['id', 'age', 'gender', 'diagnosis', 'study']]"
   ]
  },
  {
   "cell_type": "code",
   "execution_count": 10,
   "metadata": {},
   "outputs": [
    {
     "data": {
      "text/plain": [
       "(Index(['id', 'age', 'gender', 'diagnosis', 'study'], dtype='object'),\n",
       " Index(['id', 'age', 'gender', 'diagnosis', 'study'], dtype='object'))"
      ]
     },
     "execution_count": 10,
     "metadata": {},
     "output_type": "execute_result"
    }
   ],
   "source": [
    "ucla.columns, cobre.columns"
   ]
  },
  {
   "cell_type": "code",
   "execution_count": 11,
   "metadata": {},
   "outputs": [],
   "source": [
    "participants = pd.concat([ucla, cobre])"
   ]
  },
  {
   "cell_type": "code",
   "execution_count": 12,
   "metadata": {},
   "outputs": [
    {
     "data": {
      "text/html": [
       "<div>\n",
       "<style scoped>\n",
       "    .dataframe tbody tr th:only-of-type {\n",
       "        vertical-align: middle;\n",
       "    }\n",
       "\n",
       "    .dataframe tbody tr th {\n",
       "        vertical-align: top;\n",
       "    }\n",
       "\n",
       "    .dataframe thead th {\n",
       "        text-align: right;\n",
       "    }\n",
       "</style>\n",
       "<table border=\"1\" class=\"dataframe\">\n",
       "  <thead>\n",
       "    <tr style=\"text-align: right;\">\n",
       "      <th></th>\n",
       "      <th>id</th>\n",
       "      <th>age</th>\n",
       "      <th>gender</th>\n",
       "      <th>diagnosis</th>\n",
       "      <th>study</th>\n",
       "    </tr>\n",
       "  </thead>\n",
       "  <tbody>\n",
       "    <tr>\n",
       "      <th>0</th>\n",
       "      <td>10159</td>\n",
       "      <td>30</td>\n",
       "      <td>F</td>\n",
       "      <td>CONTROL</td>\n",
       "      <td>ucla</td>\n",
       "    </tr>\n",
       "    <tr>\n",
       "      <th>1</th>\n",
       "      <td>10171</td>\n",
       "      <td>24</td>\n",
       "      <td>M</td>\n",
       "      <td>CONTROL</td>\n",
       "      <td>ucla</td>\n",
       "    </tr>\n",
       "    <tr>\n",
       "      <th>2</th>\n",
       "      <td>10189</td>\n",
       "      <td>49</td>\n",
       "      <td>M</td>\n",
       "      <td>CONTROL</td>\n",
       "      <td>ucla</td>\n",
       "    </tr>\n",
       "    <tr>\n",
       "      <th>3</th>\n",
       "      <td>10193</td>\n",
       "      <td>40</td>\n",
       "      <td>M</td>\n",
       "      <td>CONTROL</td>\n",
       "      <td>ucla</td>\n",
       "    </tr>\n",
       "    <tr>\n",
       "      <th>4</th>\n",
       "      <td>10206</td>\n",
       "      <td>21</td>\n",
       "      <td>M</td>\n",
       "      <td>CONTROL</td>\n",
       "      <td>ucla</td>\n",
       "    </tr>\n",
       "  </tbody>\n",
       "</table>\n",
       "</div>"
      ],
      "text/plain": [
       "      id  age gender diagnosis study\n",
       "0  10159   30      F   CONTROL  ucla\n",
       "1  10171   24      M   CONTROL  ucla\n",
       "2  10189   49      M   CONTROL  ucla\n",
       "3  10193   40      M   CONTROL  ucla\n",
       "4  10206   21      M   CONTROL  ucla"
      ]
     },
     "execution_count": 12,
     "metadata": {},
     "output_type": "execute_result"
    }
   ],
   "source": [
    "participants.head()"
   ]
  },
  {
   "cell_type": "code",
   "execution_count": 17,
   "metadata": {},
   "outputs": [
    {
     "data": {
      "text/plain": [
       "array(['Control', 'Schizophrenia', 'BIPOLAR', 'ADHD',\n",
       "       'Schizophrenia_Strict', 'Schizoaffective', 'Bipolar_Disorder'],\n",
       "      dtype=object)"
      ]
     },
     "execution_count": 17,
     "metadata": {},
     "output_type": "execute_result"
    }
   ],
   "source": [
    "participants.diagnosis.unique()"
   ]
  },
  {
   "cell_type": "code",
   "execution_count": 15,
   "metadata": {},
   "outputs": [
    {
     "data": {
      "text/html": [
       "<div>\n",
       "<style scoped>\n",
       "    .dataframe tbody tr th:only-of-type {\n",
       "        vertical-align: middle;\n",
       "    }\n",
       "\n",
       "    .dataframe tbody tr th {\n",
       "        vertical-align: top;\n",
       "    }\n",
       "\n",
       "    .dataframe thead th {\n",
       "        text-align: right;\n",
       "    }\n",
       "</style>\n",
       "<table border=\"1\" class=\"dataframe\">\n",
       "  <thead>\n",
       "    <tr style=\"text-align: right;\">\n",
       "      <th></th>\n",
       "      <th>id</th>\n",
       "      <th>age</th>\n",
       "      <th>gender</th>\n",
       "      <th>diagnosis</th>\n",
       "      <th>study</th>\n",
       "    </tr>\n",
       "  </thead>\n",
       "  <tbody>\n",
       "    <tr>\n",
       "      <th>0</th>\n",
       "      <td>10159</td>\n",
       "      <td>30</td>\n",
       "      <td>F</td>\n",
       "      <td>CONTROL</td>\n",
       "      <td>ucla</td>\n",
       "    </tr>\n",
       "    <tr>\n",
       "      <th>1</th>\n",
       "      <td>10171</td>\n",
       "      <td>24</td>\n",
       "      <td>M</td>\n",
       "      <td>CONTROL</td>\n",
       "      <td>ucla</td>\n",
       "    </tr>\n",
       "    <tr>\n",
       "      <th>2</th>\n",
       "      <td>10189</td>\n",
       "      <td>49</td>\n",
       "      <td>M</td>\n",
       "      <td>CONTROL</td>\n",
       "      <td>ucla</td>\n",
       "    </tr>\n",
       "    <tr>\n",
       "      <th>3</th>\n",
       "      <td>10193</td>\n",
       "      <td>40</td>\n",
       "      <td>M</td>\n",
       "      <td>CONTROL</td>\n",
       "      <td>ucla</td>\n",
       "    </tr>\n",
       "    <tr>\n",
       "      <th>4</th>\n",
       "      <td>10206</td>\n",
       "      <td>21</td>\n",
       "      <td>M</td>\n",
       "      <td>CONTROL</td>\n",
       "      <td>ucla</td>\n",
       "    </tr>\n",
       "    <tr>\n",
       "      <th>...</th>\n",
       "      <td>...</td>\n",
       "      <td>...</td>\n",
       "      <td>...</td>\n",
       "      <td>...</td>\n",
       "      <td>...</td>\n",
       "    </tr>\n",
       "    <tr>\n",
       "      <th>179</th>\n",
       "      <td>A00037007</td>\n",
       "      <td>60</td>\n",
       "      <td>male</td>\n",
       "      <td>No_Known_Disorder</td>\n",
       "      <td>cobre</td>\n",
       "    </tr>\n",
       "    <tr>\n",
       "      <th>180</th>\n",
       "      <td>A00037854</td>\n",
       "      <td>21</td>\n",
       "      <td>male</td>\n",
       "      <td>Schizophrenia_Strict</td>\n",
       "      <td>cobre</td>\n",
       "    </tr>\n",
       "    <tr>\n",
       "      <th>181</th>\n",
       "      <td>A00038172</td>\n",
       "      <td>30</td>\n",
       "      <td>male</td>\n",
       "      <td>Schizoaffective</td>\n",
       "      <td>cobre</td>\n",
       "    </tr>\n",
       "    <tr>\n",
       "      <th>182</th>\n",
       "      <td>A00038441</td>\n",
       "      <td>52</td>\n",
       "      <td>male</td>\n",
       "      <td>Schizophrenia_Strict</td>\n",
       "      <td>cobre</td>\n",
       "    </tr>\n",
       "    <tr>\n",
       "      <th>183</th>\n",
       "      <td>A00038624</td>\n",
       "      <td>45</td>\n",
       "      <td>male</td>\n",
       "      <td>Schizophrenia_Strict</td>\n",
       "      <td>cobre</td>\n",
       "    </tr>\n",
       "  </tbody>\n",
       "</table>\n",
       "<p>456 rows × 5 columns</p>\n",
       "</div>"
      ],
      "text/plain": [
       "            id  age gender             diagnosis  study\n",
       "0        10159   30      F               CONTROL   ucla\n",
       "1        10171   24      M               CONTROL   ucla\n",
       "2        10189   49      M               CONTROL   ucla\n",
       "3        10193   40      M               CONTROL   ucla\n",
       "4        10206   21      M               CONTROL   ucla\n",
       "..         ...  ...    ...                   ...    ...\n",
       "179  A00037007   60   male     No_Known_Disorder  cobre\n",
       "180  A00037854   21   male  Schizophrenia_Strict  cobre\n",
       "181  A00038172   30   male       Schizoaffective  cobre\n",
       "182  A00038441   52   male  Schizophrenia_Strict  cobre\n",
       "183  A00038624   45   male  Schizophrenia_Strict  cobre\n",
       "\n",
       "[456 rows x 5 columns]"
      ]
     },
     "execution_count": 15,
     "metadata": {},
     "output_type": "execute_result"
    }
   ],
   "source": [
    "participants"
   ]
  },
  {
   "cell_type": "code",
   "execution_count": 16,
   "metadata": {},
   "outputs": [],
   "source": [
    "participants.loc[(participants.gender == 'male'), 'gender'] = 'M'\n",
    "participants.loc[(participants.gender == 'female'), 'gender'] = 'F'\n",
    "participants.loc[(participants.diagnosis == 'No_Known_Disorder'), 'diagnosis'] = 'Control'\n",
    "participants.loc[(participants.diagnosis == 'CONTROL'), 'diagnosis'] = 'Control'\n",
    "participants.loc[(participants.diagnosis == 'SCHZ'), 'diagnosis'] = 'Schizophrenia'"
   ]
  },
  {
   "cell_type": "code",
   "execution_count": 18,
   "metadata": {},
   "outputs": [
    {
     "data": {
      "text/plain": [
       "(456, 5)"
      ]
     },
     "execution_count": 18,
     "metadata": {},
     "output_type": "execute_result"
    }
   ],
   "source": [
    "participants.shape"
   ]
  },
  {
   "cell_type": "code",
   "execution_count": 19,
   "metadata": {},
   "outputs": [],
   "source": [
    "participants = participants.loc[participants['diagnosis'].isin(['Control', 'Schizophrenia', 'Schizoaffective', 'Schizophrenia_Strict'])]"
   ]
  },
  {
   "cell_type": "code",
   "execution_count": 20,
   "metadata": {},
   "outputs": [
    {
     "data": {
      "text/plain": [
       "(354, 5)"
      ]
     },
     "execution_count": 20,
     "metadata": {},
     "output_type": "execute_result"
    }
   ],
   "source": [
    "participants.shape"
   ]
  },
  {
   "cell_type": "code",
   "execution_count": 21,
   "metadata": {},
   "outputs": [],
   "source": [
    "participants = participants.loc[participants['id'].isin(subjects)]"
   ]
  },
  {
   "cell_type": "code",
   "execution_count": 22,
   "metadata": {},
   "outputs": [
    {
     "data": {
      "text/plain": [
       "(336, 5)"
      ]
     },
     "execution_count": 22,
     "metadata": {},
     "output_type": "execute_result"
    }
   ],
   "source": [
    "participants.shape"
   ]
  },
  {
   "cell_type": "code",
   "execution_count": 23,
   "metadata": {},
   "outputs": [],
   "source": [
    "participants.to_csv('./data/participants.csv', index=False)"
   ]
  },
  {
   "cell_type": "code",
   "execution_count": null,
   "metadata": {},
   "outputs": [],
   "source": [
    "participants.head()\n"
   ]
  },
  {
   "cell_type": "code",
   "execution_count": null,
   "metadata": {},
   "outputs": [],
   "source": [
    "participants.loc[participants['id'] == '50004']"
   ]
  },
  {
   "cell_type": "code",
   "execution_count": 1,
   "metadata": {},
   "outputs": [],
   "source": [
    "import numpy as np"
   ]
  },
  {
   "cell_type": "code",
   "execution_count": 2,
   "metadata": {},
   "outputs": [],
   "source": [
    "arr = np.load('./data/connection/Control/sub-10159.npz')['arr_0']"
   ]
  },
  {
   "cell_type": "code",
   "execution_count": 3,
   "metadata": {},
   "outputs": [
    {
     "data": {
      "text/plain": [
       "(444, 444)"
      ]
     },
     "execution_count": 3,
     "metadata": {},
     "output_type": "execute_result"
    }
   ],
   "source": [
    "arr.shape"
   ]
  },
  {
   "cell_type": "code",
   "execution_count": 4,
   "metadata": {},
   "outputs": [],
   "source": [
    "arr = np.pad(arr, [(2, ), (2, )], mode='constant')"
   ]
  },
  {
   "cell_type": "code",
   "execution_count": 5,
   "metadata": {},
   "outputs": [
    {
     "data": {
      "text/plain": [
       "(448, 448)"
      ]
     },
     "execution_count": 5,
     "metadata": {},
     "output_type": "execute_result"
    }
   ],
   "source": [
    "arr.shape"
   ]
  },
  {
   "cell_type": "code",
   "execution_count": 6,
   "metadata": {},
   "outputs": [
    {
     "data": {
      "text/plain": [
       "array([[0.        , 0.        , 0.        , ..., 0.        , 0.        ,\n",
       "        0.        ],\n",
       "       [0.        , 0.        , 0.        , ..., 0.        , 0.        ,\n",
       "        0.        ],\n",
       "       [0.        , 0.        , 1.        , ..., 0.59747351, 0.        ,\n",
       "        0.        ],\n",
       "       ...,\n",
       "       [0.        , 0.        , 0.59747351, ..., 1.        , 0.        ,\n",
       "        0.        ],\n",
       "       [0.        , 0.        , 0.        , ..., 0.        , 0.        ,\n",
       "        0.        ],\n",
       "       [0.        , 0.        , 0.        , ..., 0.        , 0.        ,\n",
       "        0.        ]])"
      ]
     },
     "execution_count": 6,
     "metadata": {},
     "output_type": "execute_result"
    }
   ],
   "source": [
    "arr"
   ]
  },
  {
   "cell_type": "code",
   "execution_count": null,
   "metadata": {},
   "outputs": [],
   "source": []
  }
 ],
 "metadata": {
  "kernelspec": {
   "display_name": "Python [conda env:neuro] *",
   "language": "python",
   "name": "conda-env-neuro-py"
  },
  "language_info": {
   "codemirror_mode": {
    "name": "ipython",
    "version": 3
   },
   "file_extension": ".py",
   "mimetype": "text/x-python",
   "name": "python",
   "nbconvert_exporter": "python",
   "pygments_lexer": "ipython3",
   "version": "3.6.10"
  }
 },
 "nbformat": 4,
 "nbformat_minor": 4
}
